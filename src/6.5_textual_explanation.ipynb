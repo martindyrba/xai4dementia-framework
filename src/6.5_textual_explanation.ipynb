{
  "nbformat": 4,
  "nbformat_minor": 0,
  "metadata": {
    "colab": {
      "provenance": []
    },
    "kernelspec": {
      "name": "python3",
      "display_name": "Python 3"
    },
    "language_info": {
      "name": "python"
    }
  },
  "cells": [
    {
      "cell_type": "code",
      "execution_count": null,
      "metadata": {
        "id": "ukc_o3XTQsDx"
      },
      "outputs": [],
      "source": [
        "import plotly.express as px\n",
        "import plotly.graph_objects as go\n",
        "\n",
        "import pandas as pd\n",
        "import numpy as np\n",
        "\n",
        "from sklearn.linear_model import LinearRegression\n",
        "import pickle\n",
        "import os\n",
        "\n",
        "from operator import add\n",
        "import copy"
      ]
    },
    {
      "cell_type": "code",
      "source": [
        "#Connect to drive to import files\n",
        "from google.colab import drive\n",
        "drive.mount('/content/drive')\n",
        "#drive.mount('/gdrive', force_remount=True)"
      ],
      "metadata": {
        "colab": {
          "base_uri": "https://localhost:8080/"
        },
        "id": "_WkbRWYtQymx",
        "outputId": "d830293e-b2e9-4877-e6f1-d6084683df6f"
      },
      "execution_count": null,
      "outputs": [
        {
          "output_type": "stream",
          "name": "stdout",
          "text": [
            "Mounted at /content/drive\n"
          ]
        }
      ]
    },
    {
      "cell_type": "markdown",
      "source": [
        "# Activations w-scores"
      ],
      "metadata": {
        "id": "WzezBzAEQ2v4"
      }
    },
    {
      "cell_type": "code",
      "source": [
        "cols_to_move = [ 'fullsid',\t'grp',\t'sex1f'\t,'education_y'\t,'age'\t,'MRI_field_strength'\t,'eTIV', 'MMSE' ]\n",
        "cols_to_move2 = [ 'sid', 'sample', 'fullsid',\t'grp',\t'sex1f'\t,'education_y'\t,'age'\t,'MRI_field_strength'\t,'eTIV', 'MMSE' ]\n"
      ],
      "metadata": {
        "id": "Nd7ZtcsuQ8mg"
      },
      "execution_count": null,
      "outputs": []
    },
    {
      "cell_type": "markdown",
      "source": [
        "#Volume w-score file"
      ],
      "metadata": {
        "id": "koOfAWg-exQ1"
      }
    },
    {
      "cell_type": "code",
      "source": [
        "def filter_and_rename_columns(df, suffix):\n",
        "    \"\"\"\n",
        "    Given a suffix, find all columns in a pandas DataFrame that have that suffix.\n",
        "    Slice the DataFrame with these chosen columns and remove the suffix from column names.\n",
        "\n",
        "    Parameters:\n",
        "        df (pd.DataFrame): The input DataFrame.\n",
        "        suffix (str): The suffix to filter column names.\n",
        "\n",
        "    Returns:\n",
        "        pd.DataFrame: A new DataFrame with selected columns and renamed column names.\n",
        "    \"\"\"\n",
        "    # Find columns that end with the given suffix\n",
        "    selected_cols = [col for col in df.columns if col.endswith(suffix)]\n",
        "\n",
        "    # Slice the DataFrame with these columns\n",
        "    df_subset = df[selected_cols].copy()\n",
        "\n",
        "    # Rename columns by removing the suffix\n",
        "    df_subset.columns = [col[:-len(suffix)] for col in selected_cols]\n",
        "\n",
        "    return df_subset"
      ],
      "metadata": {
        "id": "b-Bv7GJvOMg5"
      },
      "execution_count": null,
      "outputs": []
    },
    {
      "cell_type": "code",
      "source": [
        "df_w = pd.read_csv( '/content/drive/My Drive/ontology/Rel_Vol_cortThk_w-score-ROIs_1_density_total.csv', index_col=False)"
      ],
      "metadata": {
        "colab": {
          "base_uri": "https://localhost:8080/"
        },
        "id": "zdMiWtDuNWo1",
        "outputId": "04dc1b29-6e21-441b-c7b5-ad11ed061aef"
      },
      "execution_count": null,
      "outputs": [
        {
          "output_type": "stream",
          "name": "stderr",
          "text": [
            "<ipython-input-5-e26b5164d041>:1: DtypeWarning: Columns (105,242,272) have mixed types. Specify dtype option on import or set low_memory=False.\n",
            "  df_w = pd.read_csv( '/content/drive/My Drive/ontology/Rel_Vol_cortThk_w-score-ROIs_1_density_total.csv', index_col=False)\n"
          ]
        }
      ]
    },
    {
      "cell_type": "code",
      "source": [
        "df_w_vol = filter_and_rename_columns(df_w, '_vol')   #_rel, _cortThk\n",
        "df_w_vol['fullsid'] = df_w['fullsid']\n",
        "\n",
        "\n",
        "df_w_act = filter_and_rename_columns(df_w, '_rel')   #_rel, _cortThk\n",
        "df_w_act['fullsid'] = df_w['fullsid']\n",
        "\n",
        "\n",
        "df_w_cortThk = filter_and_rename_columns(df_w, '_cortThk')   #_rel, _cortThk\n",
        "df_w_cortThk['fullsid'] = df_w['fullsid']"
      ],
      "metadata": {
        "id": "V2u2D5AJPZxq"
      },
      "execution_count": null,
      "outputs": []
    },
    {
      "cell_type": "code",
      "source": [
        "list_ROIs = list(set(df_w_vol.columns.to_list()) - set(cols_to_move2))\n",
        "empty_cortThk_columns = [col for col in df_w_cortThk.columns if df_w_cortThk[col].isna().all()]\n"
      ],
      "metadata": {
        "id": "SyJb9o3RjVzP"
      },
      "execution_count": null,
      "outputs": []
    },
    {
      "cell_type": "markdown",
      "source": [
        "#TextualExpaliantion"
      ],
      "metadata": {
        "id": "CK_dBMQkRcup"
      }
    },
    {
      "cell_type": "code",
      "source": [
        "# Dataframe with which scores z-scores/w-scores for an AD-sample;  it has the parent-child relations built into it.\n",
        "# And the ROIs are manually ordered and have an associated (ring) 'level' with them,\n",
        "df_ = pd.read_csv('/content/drive/My Drive/ontology/vis_test.csv',index_col=False).fillna('')\n",
        "child_parent_dict = dict(zip(df_.ROI,df_.parent))     #A dictionary, mapping all the child->parent ROI\n",
        "ROI_level_dict = dict(zip(df_.ROI,df_.level))         #A dictionary, mapping all the child->level (i.e, distance from the root)"
      ],
      "metadata": {
        "id": "K7tKaYkwShWT"
      },
      "execution_count": null,
      "outputs": []
    },
    {
      "cell_type": "code",
      "source": [
        "#The main aggregation algo :)\n",
        "def recurrsive_ele(ROI_list, level):\n",
        "  #An algo to remove all the child nodes\n",
        "  #if, parents nodes are also deviating more than the threshold (i.e. are found to be of interest)\n",
        "\n",
        "  if level < 4:\n",
        "    return ROI_list\n",
        " # if len(ROI_list)==1:\n",
        "  #  return ROI_list\n",
        "\n",
        "  else:\n",
        "    ROI_list_copy = copy.deepcopy(ROI_list)\n",
        "    for ROI in ROI_list:\n",
        "      if (ROI_level_dict[ROI] == level) & (child_parent_dict[ROI] in ROI_list):\n",
        "        ROI_list_copy.remove(ROI)\n",
        "    ROI_list_copy = recurrsive_ele(ROI_list_copy, level-1)  #Go to the previous/upper level of parents\n",
        "    return ROI_list_copy"
      ],
      "metadata": {
        "id": "P1tcWIZ5S1Kr"
      },
      "execution_count": null,
      "outputs": []
    },
    {
      "cell_type": "code",
      "source": [
        "threshold = 2\n",
        "\n",
        "flip = -1\n",
        "# [1,-1]\n",
        "#  -1 > when the AD activation distribution is lower than CN activation distribution\n",
        "#   1 > when the AD activation distribution is higer than CN activation distribution\n",
        "#This denepds on the node of DL model used for creating the activations\n"
      ],
      "metadata": {
        "id": "ovb3oltESBiP"
      },
      "execution_count": null,
      "outputs": []
    },
    {
      "cell_type": "code",
      "source": [
        "list_represtatives = [  #--------AD----------\n",
        "                        '0371_AIBL',\n",
        "                      ]"
      ],
      "metadata": {
        "id": "OrsuC0VnCTu9"
      },
      "execution_count": null,
      "outputs": []
    },
    {
      "cell_type": "code",
      "source": [
        "# %%capture cap\n",
        "#for i in list_represtatives:\n",
        "from pprint import pprint\n",
        "\n",
        "def genereate_report(id):\n",
        "  i = id\n",
        "\n",
        "  row_act = df_w_act[df_w_act['fullsid'] == i]\n",
        "  row_vol = df_w_vol[df_w_vol['fullsid'] == i]\n",
        "  row_cortThk = df_w_cortThk[df_w_cortThk['fullsid'] == i]\n",
        "\n",
        "  print('\\n')\n",
        "  print('---------------------------  NEW SAMPLE  --------------------------')\n",
        "  print(row_act.fullsid)\n",
        "\n",
        "  activation_focused_ROIs = []\n",
        "  volume_focused_ROIs = []\n",
        "  corticalThickness_focused_ROIs = []\n",
        "\n",
        "\n",
        "  #find all the ROIs of interest which were found usefull by either the activation or volumetric method\n",
        "  for ROI in list_ROIs:   #df_w_act.columns[10:].to_list(), 9,10\n",
        "\n",
        "    #Unidirection. For activation, we only condiser if they are more than a certain threshold in one direction.\n",
        "    #Heuristic#1 Threshold.\n",
        "    #Heuristic#2 The unidirection nature. Observed from mean ad 'activation' sunmmary plot for 'node=1'\n",
        "    if (row_act[ROI].values[0] < flip*threshold):                       #.values[0]\n",
        "      activation_focused_ROIs.append(ROI)\n",
        "\n",
        "    #bidirectional. For volumetric w-score, we are interesting in both atrophy and expansion patterns\n",
        "    if (row_vol[ROI].values[0] < flip*threshold) or (row_vol[ROI].values[0] > threshold):\n",
        "      volume_focused_ROIs.append(ROI)\n",
        "\n",
        "    #Unidirection. For corticalThickness, we only condiser if they are less than a certain threshold.\n",
        "    #As unlike ventricle volume, there is no pathologic usecase to expect corticalThickness to be more than 2-wscore\n",
        "    if (row_cortThk[ROI].values[0] < flip*threshold):                       #.values[0]\n",
        "      corticalThickness_focused_ROIs.append(ROI)\n",
        "\n",
        "  #LIST of ROI over which both the methods - volumetry and CNN relevances, agree upon.\n",
        "  agree3_intersect = set(activation_focused_ROIs) & set(volume_focused_ROIs) & set(corticalThickness_focused_ROIs)\n",
        "  agree2_intersect = set(activation_focused_ROIs) & set(volume_focused_ROIs)\n",
        "  ROI_intersect_list = list(agree3_intersect)\n",
        "  for ele in list(agree2_intersect-agree3_intersect ):\n",
        "      if ele in empty_cortThk_columns:        #these were the ROIs which were removed because Cortical Thickness measures in these regions are not calculated (NAN)\n",
        "          ROI_intersect_list.append(ele)      #So we add them back into the pool of ROIs we consider of reporting\n",
        "\n",
        "\n",
        "\n",
        "  verbose=False\n",
        "  if verbose:\n",
        "    #print the full list of ROIs found to be interest.\n",
        "    ROI_list = ROI_intersect_list\n",
        "    ROI_list_print = [text.replace('_', ' ') for text in ROI_list]\n",
        "    print('Pathologic ROIs')\n",
        "    pprint(', '.join(ROI_list_print))\n",
        "    print('\\n')\n",
        "  else:\n",
        "    #remove the child ROI, for which it's parent were also found to be of interest\n",
        "    ROI_list = recurrsive_ele(ROI_intersect_list,4)\n",
        "    ROI_intersect_list_print = [text.replace('_', ' ') for text in ROI_intersect_list]\n",
        "    ROI_list_print = [text.replace('_', ' ') for text in ROI_list]\n",
        "    print('Pathologic ROIs')\n",
        "    print(', '.join(ROI_intersect_list_print))\n",
        "    print('\\n')\n",
        "    print('Pathologic ROIs presented to the user')\n",
        "    print(', '.join(ROI_list_print))\n",
        "    print('\\n')\n",
        "\n",
        "  print('-- Dynamic Result [Numeric Report]: Volumetry + Cortical Thickness + CNN Relevance --')\n",
        "  for ROI in ROI_list:\n",
        "    if ROI in empty_cortThk_columns:\n",
        "      print('Volumetric {} (w-score)            : '.format(ROI.replace('_',' ')) + '{0:.2f}'.format(row_vol[ROI].values[0]))\n",
        "      #print('Cortical Thickness not measured for {}: '.format(ROI.replace('_',' ')))\n",
        "      print('Deep Learning activity {} (w-score): '.format(ROI.replace('_',' ')) + '{0:.2f}'.format(row_act[ROI].values[0]))\n",
        "    else:\n",
        "      print('Volumetric {} (w-score)            : '.format(ROI.replace('_',' ')) + '{0:.2f}'.format(row_vol[ROI].values[0]))\n",
        "      print('Cortical Thickness {} (w-score)    : '.format(ROI.replace('_',' ')) + '{0:.2f}'.format(row_cortThk[ROI].values[0]))\n",
        "      print('Deep Learning activity {} (w-score): '.format(ROI.replace('_',' ')) + '{0:.2f}'.format(row_act[ROI].values[0]))\n",
        "    print('\\n')\n",
        "\n",
        "\n",
        "  print('-- Dynamic Result [Textual]: Volumetry + Cortical Thickness + CNN Relevance --')\n",
        "  for ROI in ROI_list:\n",
        "    avg = 0\n",
        "    if ROI in empty_cortThk_columns:\n",
        "      list_ = np.abs([row_vol[ROI].values[0], row_act[ROI].values[0]])\n",
        "    else:\n",
        "      list_ = np.abs([row_vol[ROI].values[0], row_act[ROI].values[0], row_cortThk[ROI].values[0]])\n",
        "    avg = sum(list_) / len(list_)\n",
        "\n",
        "    keyword=''\n",
        "    if avg > 4:\n",
        "      keyword = 'Strong'\n",
        "    elif avg > 3:\n",
        "      keyword = 'Moderate'\n",
        "    elif avg > 2:\n",
        "      keyword = 'Mild'\n",
        "\n",
        "    flag=''\n",
        "    if row_vol[ROI].values[0] < 0:\n",
        "      flag='atrophied'\n",
        "    else:\n",
        "      flag='enlarged'\n",
        "\n",
        "    print('{} pathology in {} {}'.format(keyword, flag, ROI.replace('_',' ')) + '\\n' +' (volume w-score: ' + '{0:.2f}'.format(row_vol[ROI].values[0]) + ', relevance w-score: ' +  '{0:.2f}'.format(row_act[ROI].values[0]) + ')' )\n",
        "    print('\\n')\n",
        "\n",
        " ###----STATIC PRECODED PRESENTATION OF LIMITED REGIONS\n",
        "  df = pd.DataFrame(dict(\n",
        "    vol=[       row_vol['Right_Hippocampus'].values[0], row_vol['Left_Hippocampus'].values[0],\n",
        "                row_vol['Right_Frontal_Lobe'].values[0], row_vol['Left_Frontal_Lobe'].values[0],\n",
        "                row_vol['Right_Parietal_Lobe'].values[0], row_vol['Left_Parietal_Lobe'].values[0],\n",
        "                row_vol['Right_Temporal_Lobe'].values[0], row_vol['Left_Temporal_Lobe'].values[0],\n",
        "                row_vol['Right_Occipital_Lobe'].values[0], row_vol['Left_Occipital_Lobe'].values[0],\n",
        "                row_vol['Brain_Region'].values[0],\n",
        "\n",
        "\n",
        "    ],\n",
        "    act=[       row_act['Right_Hippocampus'].values[0], row_act['Left_Hippocampus'].values[0],\n",
        "                row_act['Right_Frontal_Lobe'].values[0], row_act['Left_Frontal_Lobe'].values[0],\n",
        "                row_act['Right_Parietal_Lobe'].values[0], row_act['Left_Parietal_Lobe'].values[0],\n",
        "                row_act['Right_Temporal_Lobe'].values[0], row_act['Left_Temporal_Lobe'].values[0],\n",
        "                row_act['Right_Occipital_Lobe'].values[0], row_act['Left_Occipital_Lobe'].values[0],\n",
        "                row_act['Brain_Region'].values[0],\n",
        "\n",
        "    ],\n",
        "\n",
        "    cortThk=[       row_cortThk['Right_Hippocampus'].values[0], row_cortThk['Left_Hippocampus'].values[0],\n",
        "                row_cortThk['Right_Frontal_Lobe'].values[0], row_cortThk['Left_Frontal_Lobe'].values[0],\n",
        "                row_cortThk['Right_Parietal_Lobe'].values[0], row_cortThk['Left_Parietal_Lobe'].values[0],\n",
        "                row_cortThk['Right_Temporal_Lobe'].values[0], row_cortThk['Left_Temporal_Lobe'].values[0],\n",
        "                row_cortThk['Right_Occipital_Lobe'].values[0], row_cortThk['Left_Occipital_Lobe'].values[0],\n",
        "                row_cortThk['Brain_Region'].values[0],\n",
        "\n",
        "    ],\n",
        "\n",
        "    theta=[     'Right Hippocampal', 'Left Hippocampal',\n",
        "                'Right Frontal Lobe', 'Left Frontal Lobe',\n",
        "                'Right Parietal Lobe', 'Left Parietal Lobe',\n",
        "                'Right Temporal Lobe', 'Left Temporal Lobe',\n",
        "                'Right Occipital Lobe', 'Left Occipital Lobe',\n",
        "                'Whole Brain',\n",
        "\n",
        "    ]\n",
        "           ))\n",
        "\n",
        "\n",
        "\n",
        "  fig = go.Figure()\n",
        "\n",
        "  fig.add_trace(\n",
        "      go.Scatterpolar(\n",
        "          r=df['vol'],\n",
        "          theta=df['theta'],\n",
        "          name='Volumetric w-score'\n",
        "      )\n",
        "  )\n",
        "  fig.add_trace(\n",
        "      go.Scatterpolar(\n",
        "          r=df['act'],\n",
        "          theta=df['theta'],\n",
        "          name='CNN attribution w-score'\n",
        "\n",
        "      )\n",
        "  )\n",
        "  fig.add_trace(\n",
        "      go.Scatterpolar(\n",
        "          r=df['cortThk'],\n",
        "          theta=df['theta'],\n",
        "          name='Cortical Thickess w-score'\n",
        "\n",
        "      )\n",
        "  )\n",
        "\n",
        "\n",
        "  fig.update_layout(\n",
        "    polar=dict(\n",
        "      radialaxis=dict(\n",
        "        visible=True,\n",
        "        range=[1, -5]   ##TO control the inversion of axis\n",
        "      )),\n",
        "    showlegend=True\n",
        "  )\n",
        "  fig.show()\n"
      ],
      "metadata": {
        "id": "GzT5mB8Uj0Hv"
      },
      "execution_count": null,
      "outputs": []
    },
    {
      "cell_type": "code",
      "source": [
        "genereate_report('0371_AIBL')"
      ],
      "metadata": {
        "colab": {
          "base_uri": "https://localhost:8080/",
          "height": 1000
        },
        "id": "3P4SFybV0d2c",
        "outputId": "2f333d10-4f2e-4188-f572-205017473997"
      },
      "execution_count": null,
      "outputs": [
        {
          "output_type": "stream",
          "name": "stdout",
          "text": [
            "\n",
            "\n",
            "---------------------------  NEW SAMPLE  --------------------------\n",
            "228    0371_AIBL\n",
            "Name: fullsid, dtype: object\n",
            "Pathologic ROIs\n",
            "Left_Inferior_Temporal, Left_Middle_Temporal, Left_Temporal_Lobe, Left_Superior_Temporal, Right_Inferior_Temporal, Left_Inf-Lat-Vent\n",
            "\n",
            "\n",
            "Pathologic ROIs presented to the user\n",
            "Left_Temporal_Lobe, Right_Inferior_Temporal, Left_Inf-Lat-Vent\n",
            "\n",
            "\n",
            "-- Dynamic Result [Numeric Report]: Volumetry + Cortical Thickness + CNN Relevance --\n",
            "Volumetric Left Temporal Lobe (w-score)            : -2.86\n",
            "Cortical Thickness Left Temporal Lobe (w-score)    : -2.95\n",
            "Deep Learning activity Left Temporal Lobe (w-score): -4.69\n",
            "\n",
            "\n",
            "Volumetric Right Inferior Temporal (w-score)            : -2.21\n",
            "Cortical Thickness Right Inferior Temporal (w-score)    : -2.20\n",
            "Deep Learning activity Right Inferior Temporal (w-score): -2.65\n",
            "\n",
            "\n",
            "Volumetric Left Inf-Lat-Vent (w-score)            : 3.02\n",
            "Deep Learning activity Left Inf-Lat-Vent (w-score): -2.39\n",
            "\n",
            "\n",
            "-- Dynamic Result [Textual]: Volumetry + Cortical Thickness + CNN Relevance --\n",
            "Moderate pathology in atrophied Left Temporal Lobe (volume w-score: -2.86, relevance w-score: -4.69)\n",
            "Mild pathology in atrophied Right Inferior Temporal (volume w-score: -2.21, relevance w-score: -2.65)\n",
            "Mild pathology in enlarged Left Inf-Lat-Vent (volume w-score: 3.02, relevance w-score: -2.39)\n"
          ]
        },
        {
          "output_type": "display_data",
          "data": {
            "text/html": [
              "<html>\n",
              "<head><meta charset=\"utf-8\" /></head>\n",
              "<body>\n",
              "    <div>            <script src=\"https://cdnjs.cloudflare.com/ajax/libs/mathjax/2.7.5/MathJax.js?config=TeX-AMS-MML_SVG\"></script><script type=\"text/javascript\">if (window.MathJax && window.MathJax.Hub && window.MathJax.Hub.Config) {window.MathJax.Hub.Config({SVG: {font: \"STIX-Web\"}});}</script>                <script type=\"text/javascript\">window.PlotlyConfig = {MathJaxConfig: 'local'};</script>\n",
              "        <script charset=\"utf-8\" src=\"https://cdn.plot.ly/plotly-2.35.2.min.js\"></script>                <div id=\"c5f5079f-2a87-4dd2-8db2-e03ee5df4550\" class=\"plotly-graph-div\" style=\"height:525px; width:100%;\"></div>            <script type=\"text/javascript\">                                    window.PLOTLYENV=window.PLOTLYENV || {};                                    if (document.getElementById(\"c5f5079f-2a87-4dd2-8db2-e03ee5df4550\")) {                    Plotly.newPlot(                        \"c5f5079f-2a87-4dd2-8db2-e03ee5df4550\",                        [{\"name\":\"Volumetric w-score\",\"r\":[-1.4651320188082846,-1.2614925044418877,-0.3559262627924552,-0.1881077758718291,-1.7449707134846937,-0.9713213786192716,-2.799920129315156,-2.859307956654245,-1.0625988434268625,-0.7771232545780551,-1.1568236175384947],\"theta\":[\"Right Hippocampal\",\"Left Hippocampal\",\"Right Frontal Lobe\",\"Left Frontal Lobe\",\"Right Parietal Lobe\",\"Left Parietal Lobe\",\"Right Temporal Lobe\",\"Left Temporal Lobe\",\"Right Occipital Lobe\",\"Left Occipital Lobe\",\"Whole Brain\"],\"type\":\"scatterpolar\"},{\"name\":\"CNN attribution w-score\",\"r\":[-0.9680942282928788,-3.406966429335379,0.2585936632811682,-0.5474580683104568,-1.4676052078497313,-0.7102791176862463,-1.973366663677351,-4.685655067710256,-0.6713451050127117,-1.3853089620101944,-1.6482808573291452],\"theta\":[\"Right Hippocampal\",\"Left Hippocampal\",\"Right Frontal Lobe\",\"Left Frontal Lobe\",\"Right Parietal Lobe\",\"Left Parietal Lobe\",\"Right Temporal Lobe\",\"Left Temporal Lobe\",\"Right Occipital Lobe\",\"Left Occipital Lobe\",\"Whole Brain\"],\"type\":\"scatterpolar\"},{\"name\":\"Cortical Thickess w-score\",\"r\":[null,null,-0.7368639470688467,-0.901390365625714,-2.233107695717324,-1.4251481565771316,-2.7731901322509795,-2.953076496110311,-0.3727390728397349,0.604547226767761,-1.570083195554394],\"theta\":[\"Right Hippocampal\",\"Left Hippocampal\",\"Right Frontal Lobe\",\"Left Frontal Lobe\",\"Right Parietal Lobe\",\"Left Parietal Lobe\",\"Right Temporal Lobe\",\"Left Temporal Lobe\",\"Right Occipital Lobe\",\"Left Occipital Lobe\",\"Whole Brain\"],\"type\":\"scatterpolar\"}],                        {\"template\":{\"data\":{\"histogram2dcontour\":[{\"type\":\"histogram2dcontour\",\"colorbar\":{\"outlinewidth\":0,\"ticks\":\"\"},\"colorscale\":[[0.0,\"#0d0887\"],[0.1111111111111111,\"#46039f\"],[0.2222222222222222,\"#7201a8\"],[0.3333333333333333,\"#9c179e\"],[0.4444444444444444,\"#bd3786\"],[0.5555555555555556,\"#d8576b\"],[0.6666666666666666,\"#ed7953\"],[0.7777777777777778,\"#fb9f3a\"],[0.8888888888888888,\"#fdca26\"],[1.0,\"#f0f921\"]]}],\"choropleth\":[{\"type\":\"choropleth\",\"colorbar\":{\"outlinewidth\":0,\"ticks\":\"\"}}],\"histogram2d\":[{\"type\":\"histogram2d\",\"colorbar\":{\"outlinewidth\":0,\"ticks\":\"\"},\"colorscale\":[[0.0,\"#0d0887\"],[0.1111111111111111,\"#46039f\"],[0.2222222222222222,\"#7201a8\"],[0.3333333333333333,\"#9c179e\"],[0.4444444444444444,\"#bd3786\"],[0.5555555555555556,\"#d8576b\"],[0.6666666666666666,\"#ed7953\"],[0.7777777777777778,\"#fb9f3a\"],[0.8888888888888888,\"#fdca26\"],[1.0,\"#f0f921\"]]}],\"heatmap\":[{\"type\":\"heatmap\",\"colorbar\":{\"outlinewidth\":0,\"ticks\":\"\"},\"colorscale\":[[0.0,\"#0d0887\"],[0.1111111111111111,\"#46039f\"],[0.2222222222222222,\"#7201a8\"],[0.3333333333333333,\"#9c179e\"],[0.4444444444444444,\"#bd3786\"],[0.5555555555555556,\"#d8576b\"],[0.6666666666666666,\"#ed7953\"],[0.7777777777777778,\"#fb9f3a\"],[0.8888888888888888,\"#fdca26\"],[1.0,\"#f0f921\"]]}],\"heatmapgl\":[{\"type\":\"heatmapgl\",\"colorbar\":{\"outlinewidth\":0,\"ticks\":\"\"},\"colorscale\":[[0.0,\"#0d0887\"],[0.1111111111111111,\"#46039f\"],[0.2222222222222222,\"#7201a8\"],[0.3333333333333333,\"#9c179e\"],[0.4444444444444444,\"#bd3786\"],[0.5555555555555556,\"#d8576b\"],[0.6666666666666666,\"#ed7953\"],[0.7777777777777778,\"#fb9f3a\"],[0.8888888888888888,\"#fdca26\"],[1.0,\"#f0f921\"]]}],\"contourcarpet\":[{\"type\":\"contourcarpet\",\"colorbar\":{\"outlinewidth\":0,\"ticks\":\"\"}}],\"contour\":[{\"type\":\"contour\",\"colorbar\":{\"outlinewidth\":0,\"ticks\":\"\"},\"colorscale\":[[0.0,\"#0d0887\"],[0.1111111111111111,\"#46039f\"],[0.2222222222222222,\"#7201a8\"],[0.3333333333333333,\"#9c179e\"],[0.4444444444444444,\"#bd3786\"],[0.5555555555555556,\"#d8576b\"],[0.6666666666666666,\"#ed7953\"],[0.7777777777777778,\"#fb9f3a\"],[0.8888888888888888,\"#fdca26\"],[1.0,\"#f0f921\"]]}],\"surface\":[{\"type\":\"surface\",\"colorbar\":{\"outlinewidth\":0,\"ticks\":\"\"},\"colorscale\":[[0.0,\"#0d0887\"],[0.1111111111111111,\"#46039f\"],[0.2222222222222222,\"#7201a8\"],[0.3333333333333333,\"#9c179e\"],[0.4444444444444444,\"#bd3786\"],[0.5555555555555556,\"#d8576b\"],[0.6666666666666666,\"#ed7953\"],[0.7777777777777778,\"#fb9f3a\"],[0.8888888888888888,\"#fdca26\"],[1.0,\"#f0f921\"]]}],\"mesh3d\":[{\"type\":\"mesh3d\",\"colorbar\":{\"outlinewidth\":0,\"ticks\":\"\"}}],\"scatter\":[{\"fillpattern\":{\"fillmode\":\"overlay\",\"size\":10,\"solidity\":0.2},\"type\":\"scatter\"}],\"parcoords\":[{\"type\":\"parcoords\",\"line\":{\"colorbar\":{\"outlinewidth\":0,\"ticks\":\"\"}}}],\"scatterpolargl\":[{\"type\":\"scatterpolargl\",\"marker\":{\"colorbar\":{\"outlinewidth\":0,\"ticks\":\"\"}}}],\"bar\":[{\"error_x\":{\"color\":\"#2a3f5f\"},\"error_y\":{\"color\":\"#2a3f5f\"},\"marker\":{\"line\":{\"color\":\"#E5ECF6\",\"width\":0.5},\"pattern\":{\"fillmode\":\"overlay\",\"size\":10,\"solidity\":0.2}},\"type\":\"bar\"}],\"scattergeo\":[{\"type\":\"scattergeo\",\"marker\":{\"colorbar\":{\"outlinewidth\":0,\"ticks\":\"\"}}}],\"scatterpolar\":[{\"type\":\"scatterpolar\",\"marker\":{\"colorbar\":{\"outlinewidth\":0,\"ticks\":\"\"}}}],\"histogram\":[{\"marker\":{\"pattern\":{\"fillmode\":\"overlay\",\"size\":10,\"solidity\":0.2}},\"type\":\"histogram\"}],\"scattergl\":[{\"type\":\"scattergl\",\"marker\":{\"colorbar\":{\"outlinewidth\":0,\"ticks\":\"\"}}}],\"scatter3d\":[{\"type\":\"scatter3d\",\"line\":{\"colorbar\":{\"outlinewidth\":0,\"ticks\":\"\"}},\"marker\":{\"colorbar\":{\"outlinewidth\":0,\"ticks\":\"\"}}}],\"scattermapbox\":[{\"type\":\"scattermapbox\",\"marker\":{\"colorbar\":{\"outlinewidth\":0,\"ticks\":\"\"}}}],\"scatterternary\":[{\"type\":\"scatterternary\",\"marker\":{\"colorbar\":{\"outlinewidth\":0,\"ticks\":\"\"}}}],\"scattercarpet\":[{\"type\":\"scattercarpet\",\"marker\":{\"colorbar\":{\"outlinewidth\":0,\"ticks\":\"\"}}}],\"carpet\":[{\"aaxis\":{\"endlinecolor\":\"#2a3f5f\",\"gridcolor\":\"white\",\"linecolor\":\"white\",\"minorgridcolor\":\"white\",\"startlinecolor\":\"#2a3f5f\"},\"baxis\":{\"endlinecolor\":\"#2a3f5f\",\"gridcolor\":\"white\",\"linecolor\":\"white\",\"minorgridcolor\":\"white\",\"startlinecolor\":\"#2a3f5f\"},\"type\":\"carpet\"}],\"table\":[{\"cells\":{\"fill\":{\"color\":\"#EBF0F8\"},\"line\":{\"color\":\"white\"}},\"header\":{\"fill\":{\"color\":\"#C8D4E3\"},\"line\":{\"color\":\"white\"}},\"type\":\"table\"}],\"barpolar\":[{\"marker\":{\"line\":{\"color\":\"#E5ECF6\",\"width\":0.5},\"pattern\":{\"fillmode\":\"overlay\",\"size\":10,\"solidity\":0.2}},\"type\":\"barpolar\"}],\"pie\":[{\"automargin\":true,\"type\":\"pie\"}]},\"layout\":{\"autotypenumbers\":\"strict\",\"colorway\":[\"#636efa\",\"#EF553B\",\"#00cc96\",\"#ab63fa\",\"#FFA15A\",\"#19d3f3\",\"#FF6692\",\"#B6E880\",\"#FF97FF\",\"#FECB52\"],\"font\":{\"color\":\"#2a3f5f\"},\"hovermode\":\"closest\",\"hoverlabel\":{\"align\":\"left\"},\"paper_bgcolor\":\"white\",\"plot_bgcolor\":\"#E5ECF6\",\"polar\":{\"bgcolor\":\"#E5ECF6\",\"angularaxis\":{\"gridcolor\":\"white\",\"linecolor\":\"white\",\"ticks\":\"\"},\"radialaxis\":{\"gridcolor\":\"white\",\"linecolor\":\"white\",\"ticks\":\"\"}},\"ternary\":{\"bgcolor\":\"#E5ECF6\",\"aaxis\":{\"gridcolor\":\"white\",\"linecolor\":\"white\",\"ticks\":\"\"},\"baxis\":{\"gridcolor\":\"white\",\"linecolor\":\"white\",\"ticks\":\"\"},\"caxis\":{\"gridcolor\":\"white\",\"linecolor\":\"white\",\"ticks\":\"\"}},\"coloraxis\":{\"colorbar\":{\"outlinewidth\":0,\"ticks\":\"\"}},\"colorscale\":{\"sequential\":[[0.0,\"#0d0887\"],[0.1111111111111111,\"#46039f\"],[0.2222222222222222,\"#7201a8\"],[0.3333333333333333,\"#9c179e\"],[0.4444444444444444,\"#bd3786\"],[0.5555555555555556,\"#d8576b\"],[0.6666666666666666,\"#ed7953\"],[0.7777777777777778,\"#fb9f3a\"],[0.8888888888888888,\"#fdca26\"],[1.0,\"#f0f921\"]],\"sequentialminus\":[[0.0,\"#0d0887\"],[0.1111111111111111,\"#46039f\"],[0.2222222222222222,\"#7201a8\"],[0.3333333333333333,\"#9c179e\"],[0.4444444444444444,\"#bd3786\"],[0.5555555555555556,\"#d8576b\"],[0.6666666666666666,\"#ed7953\"],[0.7777777777777778,\"#fb9f3a\"],[0.8888888888888888,\"#fdca26\"],[1.0,\"#f0f921\"]],\"diverging\":[[0,\"#8e0152\"],[0.1,\"#c51b7d\"],[0.2,\"#de77ae\"],[0.3,\"#f1b6da\"],[0.4,\"#fde0ef\"],[0.5,\"#f7f7f7\"],[0.6,\"#e6f5d0\"],[0.7,\"#b8e186\"],[0.8,\"#7fbc41\"],[0.9,\"#4d9221\"],[1,\"#276419\"]]},\"xaxis\":{\"gridcolor\":\"white\",\"linecolor\":\"white\",\"ticks\":\"\",\"title\":{\"standoff\":15},\"zerolinecolor\":\"white\",\"automargin\":true,\"zerolinewidth\":2},\"yaxis\":{\"gridcolor\":\"white\",\"linecolor\":\"white\",\"ticks\":\"\",\"title\":{\"standoff\":15},\"zerolinecolor\":\"white\",\"automargin\":true,\"zerolinewidth\":2},\"scene\":{\"xaxis\":{\"backgroundcolor\":\"#E5ECF6\",\"gridcolor\":\"white\",\"linecolor\":\"white\",\"showbackground\":true,\"ticks\":\"\",\"zerolinecolor\":\"white\",\"gridwidth\":2},\"yaxis\":{\"backgroundcolor\":\"#E5ECF6\",\"gridcolor\":\"white\",\"linecolor\":\"white\",\"showbackground\":true,\"ticks\":\"\",\"zerolinecolor\":\"white\",\"gridwidth\":2},\"zaxis\":{\"backgroundcolor\":\"#E5ECF6\",\"gridcolor\":\"white\",\"linecolor\":\"white\",\"showbackground\":true,\"ticks\":\"\",\"zerolinecolor\":\"white\",\"gridwidth\":2}},\"shapedefaults\":{\"line\":{\"color\":\"#2a3f5f\"}},\"annotationdefaults\":{\"arrowcolor\":\"#2a3f5f\",\"arrowhead\":0,\"arrowwidth\":1},\"geo\":{\"bgcolor\":\"white\",\"landcolor\":\"#E5ECF6\",\"subunitcolor\":\"white\",\"showland\":true,\"showlakes\":true,\"lakecolor\":\"white\"},\"title\":{\"x\":0.05},\"mapbox\":{\"style\":\"light\"}}},\"polar\":{\"radialaxis\":{\"visible\":true,\"range\":[1,-5]}},\"showlegend\":true},                        {\"responsive\": true}                    ).then(function(){\n",
              "                            \n",
              "var gd = document.getElementById('c5f5079f-2a87-4dd2-8db2-e03ee5df4550');\n",
              "var x = new MutationObserver(function (mutations, observer) {{\n",
              "        var display = window.getComputedStyle(gd).display;\n",
              "        if (!display || display === 'none') {{\n",
              "            console.log([gd, 'removed!']);\n",
              "            Plotly.purge(gd);\n",
              "            observer.disconnect();\n",
              "        }}\n",
              "}});\n",
              "\n",
              "// Listen for the removal of the full notebook cells\n",
              "var notebookContainer = gd.closest('#notebook-container');\n",
              "if (notebookContainer) {{\n",
              "    x.observe(notebookContainer, {childList: true});\n",
              "}}\n",
              "\n",
              "// Listen for the clearing of the current output cell\n",
              "var outputEl = gd.closest('.output');\n",
              "if (outputEl) {{\n",
              "    x.observe(outputEl, {childList: true});\n",
              "}}\n",
              "\n",
              "                        })                };                            </script>        </div>\n",
              "</body>\n",
              "</html>"
            ]
          },
          "metadata": {}
        }
      ]
    }
  ]
}